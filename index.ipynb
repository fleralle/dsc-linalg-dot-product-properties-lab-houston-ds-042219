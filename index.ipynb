{
 "cells": [
  {
   "cell_type": "markdown",
   "metadata": {},
   "source": [
    "# Properties of Dot Product - Lab\n",
    "\n",
    "## Introduction\n",
    "\n",
    "In this lab, you'll be practicing some interesting properties of a Dot Product-type matrix multiplication. Understanding these properties will become useful as you move forward with machine learning. The lab will require you to calculate results to provide a proof for these properties.\n",
    "\n",
    "## Objectives\n",
    "You will be able to:\n",
    "* Understand and analytically explain Distributive, Commutative and Associative properties of dot product\n",
    "\n",
    "## Instructions\n",
    "\n",
    "* For each property, create suitably sized matrices with random data and prove the equations \n",
    "* Ensure that size/dimension assumptions are met while performing calculations (you'll see errors otherwise)\n",
    "* Calculate the LHS and RHS for all equations and show if they are equal or not\n",
    "\n",
    "## Distributive Property - matrix multiplication is distributive\n",
    "\n",
    "### Prove that $A \\cdot (B+C) = (A \\cdot B + A \\cdot C) $"
   ]
  },
  {
   "cell_type": "code",
   "execution_count": 22,
   "metadata": {},
   "outputs": [
    {
     "name": "stdout",
     "output_type": "stream",
     "text": [
      "[[267. 305. 310. 242.]\n",
      " [203. 282. 271. 177.]\n",
      " [119. 140. 147. 101.]\n",
      " [208. 246. 208. 177.]]\n",
      "[[267. 305. 310. 242.]\n",
      " [203. 282. 271. 177.]\n",
      " [119. 140. 147. 101.]\n",
      " [208. 246. 208. 177.]]\n",
      "[[ True  True  True  True]\n",
      " [ True  True  True  True]\n",
      " [ True  True  True  True]\n",
      " [ True  True  True  True]]\n"
     ]
    }
   ],
   "source": [
    "import numpy as np\n",
    "\n",
    "def create_random_matrix(n,m):\n",
    "    Z = np.zeros((n,m))\n",
    "    \n",
    "    for i in range(n):\n",
    "        for j in range(m):\n",
    "            Z[i,j] = np.random.randint(1,10)\n",
    "    \n",
    "    return Z\n",
    "\n",
    "def add_matrices(X, Y):\n",
    "    if X.shape != Y.shape:\n",
    "        raise ValueError('Error can\\'t add two matrices with different shapes')\n",
    "    \n",
    "    return X + Y\n",
    "\n",
    "def dot_matrices(X, Y):\n",
    "    if X.shape[1] != Y.shape[0]:\n",
    "        raise ValueError('Error can\\'t dot multiply two matrices not matching X cols = Y rows')\n",
    "    \n",
    "    return X.dot(Y)\n",
    "\n",
    "A = create_random_matrix(4,4)\n",
    "B = create_random_matrix(4,4)\n",
    "C = create_random_matrix(4,4)\n",
    "\n",
    "print(dot_matrices(A,add_matrices(B,C)))\n",
    "print(add_matrices(dot_matrices(A,B),dot_matrices(A,C)))\n",
    "\n",
    "print(dot_matrices(A,add_matrices(B,C)) == add_matrices(dot_matrices(A,B),dot_matrices(A,C)))"
   ]
  },
  {
   "cell_type": "markdown",
   "metadata": {},
   "source": [
    "## Associative Property - matrix multiplication is associative\n",
    "### Prove that $A \\cdot (B \\cdot C) = (A \\cdot B) \\cdot C $"
   ]
  },
  {
   "cell_type": "code",
   "execution_count": 24,
   "metadata": {},
   "outputs": [
    {
     "name": "stdout",
     "output_type": "stream",
     "text": [
      "[[2106. 3546. 1696. 3310.]\n",
      " [2191. 3671. 1668. 3311.]\n",
      " [2312. 3862. 1813. 3653.]\n",
      " [2087. 3707. 1702. 3265.]]\n",
      "[[2106. 3546. 1696. 3310.]\n",
      " [2191. 3671. 1668. 3311.]\n",
      " [2312. 3862. 1813. 3653.]\n",
      " [2087. 3707. 1702. 3265.]]\n"
     ]
    }
   ],
   "source": [
    "# Your code here \n",
    "A = create_random_matrix(4,4)\n",
    "B = create_random_matrix(4,4)\n",
    "C = create_random_matrix(4,4)\n",
    "\n",
    "print(dot_matrices(A,dot_matrices(B,C)))\n",
    "print(dot_matrices(dot_matrices(A,B), C))"
   ]
  },
  {
   "cell_type": "markdown",
   "metadata": {},
   "source": [
    "## Commutative Property - matrix multiplication is NOT commutative\n",
    "### Prove that for matrices, $A \\cdot B \\neq B \\cdot A $"
   ]
  },
  {
   "cell_type": "code",
   "execution_count": 26,
   "metadata": {},
   "outputs": [
    {
     "name": "stdout",
     "output_type": "stream",
     "text": [
      "[[114.  22.  77.]\n",
      " [160.  37. 104.]\n",
      " [ 90.  17.  62.]]\n",
      "[[  7.  43.  32.  30.]\n",
      " [ 18. 100.  80.  50.]\n",
      " [ 10.  59.  47.  33.]\n",
      " [ 16.  95.  73.  59.]]\n"
     ]
    }
   ],
   "source": [
    "# Your code here \n",
    "A = create_random_matrix(3,4)\n",
    "B = create_random_matrix(4,3)\n",
    "\n",
    "print(dot_matrices(A,B))\n",
    "print(dot_matrices(B,A))"
   ]
  },
  {
   "cell_type": "markdown",
   "metadata": {},
   "source": [
    "## Commutative Property -  vector multiplication IS commutative\n",
    "### Prove that for vectors,  $x^T \\cdot y = y^T \\cdot x$\n",
    "Note: superscipt<sup>T</sup> denotes the transpose we saw earlier"
   ]
  },
  {
   "cell_type": "code",
   "execution_count": 29,
   "metadata": {},
   "outputs": [
    {
     "name": "stdout",
     "output_type": "stream",
     "text": [
      "[[2.]\n",
      " [5.]\n",
      " [4.]]\n",
      "[[1.]\n",
      " [5.]\n",
      " [9.]]\n",
      "[[63.]]\n",
      "[[63.]]\n"
     ]
    }
   ],
   "source": [
    "# Your code here \n",
    "# Your code here \n",
    "A = create_random_matrix(3,1)\n",
    "B = create_random_matrix(3,1)\n",
    "\n",
    "print(A)\n",
    "print(B)\n",
    "print(dot_matrices(A.T,B))\n",
    "print(dot_matrices(B.T,A))"
   ]
  },
  {
   "cell_type": "markdown",
   "metadata": {},
   "source": [
    "## Simplification of the matrix product\n",
    "### Prove that $ (A \\cdot B)^T = A^T \\cdot B^T $"
   ]
  },
  {
   "cell_type": "code",
   "execution_count": 38,
   "metadata": {},
   "outputs": [
    {
     "name": "stdout",
     "output_type": "stream",
     "text": [
      "[[4. 8. 5. 4.]\n",
      " [1. 7. 6. 5.]\n",
      " [7. 4. 2. 3.]\n",
      " [7. 3. 5. 1.]]\n",
      "[[9. 4. 9. 7.]\n",
      " [6. 4. 2. 5.]\n",
      " [9. 4. 9. 5.]\n",
      " [2. 4. 2. 1.]]\n",
      "[[137.  84. 105.  97.]\n",
      " [115.  76.  87.  77.]\n",
      " [111.  64.  95.  82.]\n",
      " [128.  64. 116.  90.]]\n",
      "[[137. 115. 111. 128.]\n",
      " [ 84.  76.  64.  64.]\n",
      " [105.  87.  95. 116.]\n",
      " [ 97.  77.  82.  90.]]\n",
      "[[ True  True  True  True]\n",
      " [ True  True  True  True]\n",
      " [ True  True  True  True]\n",
      " [ True  True  True  True]]\n",
      "[[137. 115. 111. 128.]\n",
      " [ 84.  76.  64.  64.]\n",
      " [105.  87.  95. 116.]\n",
      " [ 97.  77.  82.  90.]]\n",
      "[[152.  77. 138.  33.]\n",
      " [157.  99. 151.  55.]\n",
      " [122.  83. 112.  43.]\n",
      " [ 90.  55.  88.  35.]]\n"
     ]
    }
   ],
   "source": [
    "A = create_random_matrix(4,4)\n",
    "B = create_random_matrix(4,4)\n",
    "\n",
    "# A = np.array([[2, 3], [1, 4], [7, 6]])\n",
    "# B = np.array([[5, 3], [2, 2]])\n",
    "\n",
    "print(A)\n",
    "print(B)\n",
    "C = dot_matrices(A,B)\n",
    "print(C)\n",
    "print(C.T)\n",
    "\n",
    "left = np.transpose(A.dot(B))\n",
    "right = np.transpose(B).dot(np.transpose(A))\n",
    "print(left == right)\n",
    "\n",
    "print(dot_matrices(A,B).T)\n",
    "print(dot_matrices(A.T,B.T))"
   ]
  },
  {
   "cell_type": "markdown",
   "metadata": {},
   "source": [
    "## Summary \n",
    "\n",
    "You've seen enough matrix algebra by now to solve a problem of linear equations as you saw earlier. You'll now see how to do this next. "
   ]
  }
 ],
 "metadata": {
  "kernelspec": {
   "display_name": "Python 3",
   "language": "python",
   "name": "python3"
  },
  "language_info": {
   "codemirror_mode": {
    "name": "ipython",
    "version": 3
   },
   "file_extension": ".py",
   "mimetype": "text/x-python",
   "name": "python",
   "nbconvert_exporter": "python",
   "pygments_lexer": "ipython3",
   "version": "3.6.6"
  }
 },
 "nbformat": 4,
 "nbformat_minor": 2
}
